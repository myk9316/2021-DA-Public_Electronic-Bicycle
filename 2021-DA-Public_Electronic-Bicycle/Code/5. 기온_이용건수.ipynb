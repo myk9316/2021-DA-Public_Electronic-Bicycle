{
 "cells": [
  {
   "cell_type": "code",
   "execution_count": 56,
   "id": "f04c8a1b-cfd6-46b0-8163-0ea9f161159f",
   "metadata": {},
   "outputs": [],
   "source": [
    "import pandas as pd\n",
    "import seaborn as sns\n",
    "\n",
    "rental19 = pd.read_csv('data/#5. 공공자전거_이용정보(시간대별)/new_ride_data_2019.csv', encoding='cp949')"
   ]
  },
  {
   "cell_type": "code",
   "execution_count": 57,
   "id": "bb9c92d3-932f-451d-921f-e287e936144d",
   "metadata": {},
   "outputs": [],
   "source": [
    "rental19 = rental19.rename({'Unnamed: 0': 'time'}, axis=1)\n",
    "rental19.head()\n",
    "\n",
    "rental19.age = rental19.age.map({'10대': '10s', '20대': '20s', '30대': '30s', '40대': '40s',\n",
    "                                 '50대': '50s', '60대': '60s','70대': '70s'}) "
   ]
  },
  {
   "cell_type": "code",
   "execution_count": 58,
   "id": "a405a83c-6ff8-4b0f-82e4-beacb1c12ee1",
   "metadata": {},
   "outputs": [
    {
     "data": {
      "text/html": [
       "<div>\n",
       "<style scoped>\n",
       "    .dataframe tbody tr th:only-of-type {\n",
       "        vertical-align: middle;\n",
       "    }\n",
       "\n",
       "    .dataframe tbody tr th {\n",
       "        vertical-align: top;\n",
       "    }\n",
       "\n",
       "    .dataframe thead th {\n",
       "        text-align: right;\n",
       "    }\n",
       "</style>\n",
       "<table border=\"1\" class=\"dataframe\">\n",
       "  <thead>\n",
       "    <tr style=\"text-align: right;\">\n",
       "      <th></th>\n",
       "      <th>time</th>\n",
       "      <th>rental_code</th>\n",
       "      <th>sex</th>\n",
       "      <th>age</th>\n",
       "      <th>usage</th>\n",
       "      <th>calories</th>\n",
       "      <th>carbon</th>\n",
       "      <th>distance</th>\n",
       "      <th>usage_time</th>\n",
       "      <th>location</th>\n",
       "      <th>hour</th>\n",
       "      <th>date</th>\n",
       "    </tr>\n",
       "  </thead>\n",
       "  <tbody>\n",
       "    <tr>\n",
       "      <th>0</th>\n",
       "      <td>2019-01-01</td>\n",
       "      <td>정기권</td>\n",
       "      <td>F</td>\n",
       "      <td>10s</td>\n",
       "      <td>1</td>\n",
       "      <td>41.96</td>\n",
       "      <td>0.38</td>\n",
       "      <td>1630.0</td>\n",
       "      <td>29</td>\n",
       "      <td>458_광화문역 5번출구</td>\n",
       "      <td>0</td>\n",
       "      <td>2019-01-01</td>\n",
       "    </tr>\n",
       "    <tr>\n",
       "      <th>1</th>\n",
       "      <td>2019-01-01</td>\n",
       "      <td>정기권</td>\n",
       "      <td>F</td>\n",
       "      <td>20s</td>\n",
       "      <td>1</td>\n",
       "      <td>27.23</td>\n",
       "      <td>0.29</td>\n",
       "      <td>1250.0</td>\n",
       "      <td>7</td>\n",
       "      <td>2159_인헌초교</td>\n",
       "      <td>0</td>\n",
       "      <td>2019-01-01</td>\n",
       "    </tr>\n",
       "  </tbody>\n",
       "</table>\n",
       "</div>"
      ],
      "text/plain": [
       "        time rental_code sex  age  usage  calories  carbon  distance  \\\n",
       "0 2019-01-01         정기권   F  10s      1     41.96    0.38    1630.0   \n",
       "1 2019-01-01         정기권   F  20s      1     27.23    0.29    1250.0   \n",
       "\n",
       "   usage_time       location  hour        date  \n",
       "0          29  458_광화문역 5번출구     0  2019-01-01  \n",
       "1           7      2159_인헌초교     0  2019-01-01  "
      ]
     },
     "execution_count": 58,
     "metadata": {},
     "output_type": "execute_result"
    }
   ],
   "source": [
    "rental19.time = pd.to_datetime(rental19.time)\n",
    "rental19['hour'] = rental19.time.map(lambda x: x.hour)\n",
    "rental19['date'] = rental19.time.map(lambda x: x.date())\n",
    "rental19.head(2)"
   ]
  },
  {
   "cell_type": "code",
   "execution_count": 71,
   "id": "27df00c6-b322-4e14-9862-e3edd1b97244",
   "metadata": {},
   "outputs": [
    {
     "data": {
      "text/plain": [
       "14719885"
      ]
     },
     "execution_count": 71,
     "metadata": {},
     "output_type": "execute_result"
    }
   ],
   "source": [
    "len(rental19)"
   ]
  },
  {
   "cell_type": "code",
   "execution_count": 72,
   "id": "3ef75294-0c9f-4719-b2e7-1bb55560494d",
   "metadata": {},
   "outputs": [],
   "source": [
    "rental19 = rental19[rental19.distance != 0]"
   ]
  },
  {
   "cell_type": "code",
   "execution_count": 73,
   "id": "2ead35d0-68cc-4f6b-94fb-56ec76bdf3d5",
   "metadata": {},
   "outputs": [
    {
     "data": {
      "text/plain": [
       "14343794"
      ]
     },
     "execution_count": 73,
     "metadata": {},
     "output_type": "execute_result"
    }
   ],
   "source": [
    "len(rental19)"
   ]
  },
  {
   "cell_type": "code",
   "execution_count": 74,
   "id": "03b2926f-247e-430e-a3f1-e80798d7ae64",
   "metadata": {},
   "outputs": [],
   "source": [
    "rental19['mean_distance'] = rental19.distance / rental19.usage"
   ]
  },
  {
   "cell_type": "code",
   "execution_count": 75,
   "id": "eb52d0c2-1182-4393-83c5-bc82c497a7a5",
   "metadata": {},
   "outputs": [
    {
     "data": {
      "text/html": [
       "<div>\n",
       "<style scoped>\n",
       "    .dataframe tbody tr th:only-of-type {\n",
       "        vertical-align: middle;\n",
       "    }\n",
       "\n",
       "    .dataframe tbody tr th {\n",
       "        vertical-align: top;\n",
       "    }\n",
       "\n",
       "    .dataframe thead th {\n",
       "        text-align: right;\n",
       "    }\n",
       "</style>\n",
       "<table border=\"1\" class=\"dataframe\">\n",
       "  <thead>\n",
       "    <tr style=\"text-align: right;\">\n",
       "      <th></th>\n",
       "      <th>usage</th>\n",
       "      <th>calories</th>\n",
       "      <th>carbon</th>\n",
       "      <th>distance</th>\n",
       "      <th>usage_time</th>\n",
       "      <th>hour</th>\n",
       "      <th>mean_distance</th>\n",
       "    </tr>\n",
       "  </thead>\n",
       "  <tbody>\n",
       "    <tr>\n",
       "      <th>count</th>\n",
       "      <td>1.434379e+07</td>\n",
       "      <td>1.434379e+07</td>\n",
       "      <td>1.434379e+07</td>\n",
       "      <td>1.434379e+07</td>\n",
       "      <td>1.434379e+07</td>\n",
       "      <td>1.434379e+07</td>\n",
       "      <td>1.434379e+07</td>\n",
       "    </tr>\n",
       "    <tr>\n",
       "      <th>mean</th>\n",
       "      <td>1.268183e+00</td>\n",
       "      <td>1.736181e+02</td>\n",
       "      <td>1.505231e+00</td>\n",
       "      <td>6.487883e+03</td>\n",
       "      <td>3.207570e+01</td>\n",
       "      <td>1.391068e+01</td>\n",
       "      <td>5.060225e+03</td>\n",
       "    </tr>\n",
       "    <tr>\n",
       "      <th>std</th>\n",
       "      <td>7.488358e-01</td>\n",
       "      <td>4.156388e+02</td>\n",
       "      <td>3.536864e+00</td>\n",
       "      <td>1.523677e+04</td>\n",
       "      <td>4.341774e+01</td>\n",
       "      <td>6.365935e+00</td>\n",
       "      <td>1.208454e+04</td>\n",
       "    </tr>\n",
       "    <tr>\n",
       "      <th>min</th>\n",
       "      <td>1.000000e+00</td>\n",
       "      <td>0.000000e+00</td>\n",
       "      <td>0.000000e+00</td>\n",
       "      <td>1.000000e+00</td>\n",
       "      <td>0.000000e+00</td>\n",
       "      <td>0.000000e+00</td>\n",
       "      <td>1.000000e+00</td>\n",
       "    </tr>\n",
       "    <tr>\n",
       "      <th>25%</th>\n",
       "      <td>1.000000e+00</td>\n",
       "      <td>3.520000e+01</td>\n",
       "      <td>3.100000e-01</td>\n",
       "      <td>1.340000e+03</td>\n",
       "      <td>9.000000e+00</td>\n",
       "      <td>9.000000e+00</td>\n",
       "      <td>1.240000e+03</td>\n",
       "    </tr>\n",
       "    <tr>\n",
       "      <th>50%</th>\n",
       "      <td>1.000000e+00</td>\n",
       "      <td>6.843000e+01</td>\n",
       "      <td>6.000000e-01</td>\n",
       "      <td>2.570000e+03</td>\n",
       "      <td>1.800000e+01</td>\n",
       "      <td>1.500000e+01</td>\n",
       "      <td>2.230000e+03</td>\n",
       "    </tr>\n",
       "    <tr>\n",
       "      <th>75%</th>\n",
       "      <td>1.000000e+00</td>\n",
       "      <td>1.511100e+02</td>\n",
       "      <td>1.320000e+00</td>\n",
       "      <td>5.670000e+03</td>\n",
       "      <td>4.000000e+01</td>\n",
       "      <td>1.900000e+01</td>\n",
       "      <td>4.540000e+03</td>\n",
       "    </tr>\n",
       "    <tr>\n",
       "      <th>max</th>\n",
       "      <td>7.200000e+01</td>\n",
       "      <td>4.093233e+04</td>\n",
       "      <td>3.980000e+02</td>\n",
       "      <td>6.140800e+05</td>\n",
       "      <td>1.057100e+04</td>\n",
       "      <td>2.300000e+01</td>\n",
       "      <td>2.559900e+05</td>\n",
       "    </tr>\n",
       "  </tbody>\n",
       "</table>\n",
       "</div>"
      ],
      "text/plain": [
       "              usage      calories        carbon      distance    usage_time  \\\n",
       "count  1.434379e+07  1.434379e+07  1.434379e+07  1.434379e+07  1.434379e+07   \n",
       "mean   1.268183e+00  1.736181e+02  1.505231e+00  6.487883e+03  3.207570e+01   \n",
       "std    7.488358e-01  4.156388e+02  3.536864e+00  1.523677e+04  4.341774e+01   \n",
       "min    1.000000e+00  0.000000e+00  0.000000e+00  1.000000e+00  0.000000e+00   \n",
       "25%    1.000000e+00  3.520000e+01  3.100000e-01  1.340000e+03  9.000000e+00   \n",
       "50%    1.000000e+00  6.843000e+01  6.000000e-01  2.570000e+03  1.800000e+01   \n",
       "75%    1.000000e+00  1.511100e+02  1.320000e+00  5.670000e+03  4.000000e+01   \n",
       "max    7.200000e+01  4.093233e+04  3.980000e+02  6.140800e+05  1.057100e+04   \n",
       "\n",
       "               hour  mean_distance  \n",
       "count  1.434379e+07   1.434379e+07  \n",
       "mean   1.391068e+01   5.060225e+03  \n",
       "std    6.365935e+00   1.208454e+04  \n",
       "min    0.000000e+00   1.000000e+00  \n",
       "25%    9.000000e+00   1.240000e+03  \n",
       "50%    1.500000e+01   2.230000e+03  \n",
       "75%    1.900000e+01   4.540000e+03  \n",
       "max    2.300000e+01   2.559900e+05  "
      ]
     },
     "execution_count": 75,
     "metadata": {},
     "output_type": "execute_result"
    }
   ],
   "source": [
    "rental19.describe()"
   ]
  },
  {
   "cell_type": "code",
   "execution_count": 76,
   "id": "9d7357a4-1612-4116-82e1-3ef32afc16cf",
   "metadata": {},
   "outputs": [],
   "source": [
    "rental19 = rental19[rental19.mean_distance <= 50000]"
   ]
  },
  {
   "cell_type": "code",
   "execution_count": 77,
   "id": "4b0774c5-eb7e-4fc5-be08-499ccfaa2139",
   "metadata": {},
   "outputs": [
    {
     "data": {
      "text/plain": [
       "14146192"
      ]
     },
     "execution_count": 77,
     "metadata": {},
     "output_type": "execute_result"
    }
   ],
   "source": [
    "len(rental19)"
   ]
  },
  {
   "cell_type": "code",
   "execution_count": 78,
   "id": "f71c9c91-9cdf-43ba-9d1b-5372c498dd38",
   "metadata": {},
   "outputs": [],
   "source": [
    "date_count = rental19.pivot_table(index='date', values='usage', aggfunc='sum')\n",
    "date_count = date_count.reset_index()\n",
    "date_count.date = pd.to_datetime(date_count.date)"
   ]
  },
  {
   "cell_type": "code",
   "execution_count": 79,
   "id": "eb7d33fa-5125-4ba7-b2c2-e541d1162aaa",
   "metadata": {},
   "outputs": [],
   "source": [
    "temp = pd.read_csv('data/temp_2019.csv', encoding='cp949')\n",
    "temp.일시 = pd.to_datetime(temp.일시)"
   ]
  },
  {
   "cell_type": "code",
   "execution_count": 80,
   "id": "db8c5288-479c-45d0-a07c-7b39d00a4713",
   "metadata": {},
   "outputs": [],
   "source": [
    "df = pd.merge(date_count, temp, left_on='date', right_on='일시', how='left')"
   ]
  },
  {
   "cell_type": "code",
   "execution_count": 81,
   "id": "1f0e93db-c426-4aa4-88a7-47b253cb5648",
   "metadata": {},
   "outputs": [],
   "source": [
    "def season_mapper(dt):\n",
    "    if dt.month in [6,7,8]:\n",
    "        return 'summer'\n",
    "    elif dt.month in [12,1,2]:\n",
    "        return 'winter'\n",
    "    else:\n",
    "        return 'else'"
   ]
  },
  {
   "cell_type": "code",
   "execution_count": 82,
   "id": "b0048ecd-c651-48bc-838e-c1ab92bd9a38",
   "metadata": {},
   "outputs": [],
   "source": [
    "df['season'] = df.date.map(lambda x: season_mapper(x))"
   ]
  },
  {
   "cell_type": "code",
   "execution_count": 83,
   "id": "a398c51d-ff85-48fa-bfcc-cf00bb501628",
   "metadata": {},
   "outputs": [
    {
     "data": {
      "text/html": [
       "<div>\n",
       "<style scoped>\n",
       "    .dataframe tbody tr th:only-of-type {\n",
       "        vertical-align: middle;\n",
       "    }\n",
       "\n",
       "    .dataframe tbody tr th {\n",
       "        vertical-align: top;\n",
       "    }\n",
       "\n",
       "    .dataframe thead th {\n",
       "        text-align: right;\n",
       "    }\n",
       "</style>\n",
       "<table border=\"1\" class=\"dataframe\">\n",
       "  <thead>\n",
       "    <tr style=\"text-align: right;\">\n",
       "      <th></th>\n",
       "      <th>date</th>\n",
       "      <th>usage</th>\n",
       "      <th>지점</th>\n",
       "      <th>지점명</th>\n",
       "      <th>일시</th>\n",
       "      <th>평균기온(°C)</th>\n",
       "      <th>season</th>\n",
       "    </tr>\n",
       "  </thead>\n",
       "  <tbody>\n",
       "    <tr>\n",
       "      <th>0</th>\n",
       "      <td>2019-01-01</td>\n",
       "      <td>5335</td>\n",
       "      <td>108</td>\n",
       "      <td>서울</td>\n",
       "      <td>2019-01-01</td>\n",
       "      <td>-5.0</td>\n",
       "      <td>winter</td>\n",
       "    </tr>\n",
       "    <tr>\n",
       "      <th>1</th>\n",
       "      <td>2019-01-02</td>\n",
       "      <td>9225</td>\n",
       "      <td>108</td>\n",
       "      <td>서울</td>\n",
       "      <td>2019-01-02</td>\n",
       "      <td>-4.9</td>\n",
       "      <td>winter</td>\n",
       "    </tr>\n",
       "    <tr>\n",
       "      <th>2</th>\n",
       "      <td>2019-01-03</td>\n",
       "      <td>10330</td>\n",
       "      <td>108</td>\n",
       "      <td>서울</td>\n",
       "      <td>2019-01-03</td>\n",
       "      <td>-3.5</td>\n",
       "      <td>winter</td>\n",
       "    </tr>\n",
       "    <tr>\n",
       "      <th>3</th>\n",
       "      <td>2019-01-04</td>\n",
       "      <td>10876</td>\n",
       "      <td>108</td>\n",
       "      <td>서울</td>\n",
       "      <td>2019-01-04</td>\n",
       "      <td>-1.1</td>\n",
       "      <td>winter</td>\n",
       "    </tr>\n",
       "    <tr>\n",
       "      <th>4</th>\n",
       "      <td>2019-01-05</td>\n",
       "      <td>7734</td>\n",
       "      <td>108</td>\n",
       "      <td>서울</td>\n",
       "      <td>2019-01-05</td>\n",
       "      <td>-2.8</td>\n",
       "      <td>winter</td>\n",
       "    </tr>\n",
       "  </tbody>\n",
       "</table>\n",
       "</div>"
      ],
      "text/plain": [
       "        date  usage   지점 지점명         일시  평균기온(°C)  season\n",
       "0 2019-01-01   5335  108  서울 2019-01-01      -5.0  winter\n",
       "1 2019-01-02   9225  108  서울 2019-01-02      -4.9  winter\n",
       "2 2019-01-03  10330  108  서울 2019-01-03      -3.5  winter\n",
       "3 2019-01-04  10876  108  서울 2019-01-04      -1.1  winter\n",
       "4 2019-01-05   7734  108  서울 2019-01-05      -2.8  winter"
      ]
     },
     "execution_count": 83,
     "metadata": {},
     "output_type": "execute_result"
    }
   ],
   "source": [
    "df.head()"
   ]
  },
  {
   "cell_type": "code",
   "execution_count": 84,
   "id": "4fb295fd-2fa7-4778-8497-325111e37272",
   "metadata": {},
   "outputs": [],
   "source": [
    "df = df.rename({'평균기온(°C)':'temp'}, axis=1)"
   ]
  },
  {
   "cell_type": "code",
   "execution_count": 85,
   "id": "fac79d3e-edfb-4b0f-9756-56f8f922478a",
   "metadata": {},
   "outputs": [
    {
     "data": {
      "text/html": [
       "<div>\n",
       "<style scoped>\n",
       "    .dataframe tbody tr th:only-of-type {\n",
       "        vertical-align: middle;\n",
       "    }\n",
       "\n",
       "    .dataframe tbody tr th {\n",
       "        vertical-align: top;\n",
       "    }\n",
       "\n",
       "    .dataframe thead th {\n",
       "        text-align: right;\n",
       "    }\n",
       "</style>\n",
       "<table border=\"1\" class=\"dataframe\">\n",
       "  <thead>\n",
       "    <tr style=\"text-align: right;\">\n",
       "      <th></th>\n",
       "      <th>usage</th>\n",
       "      <th>지점</th>\n",
       "      <th>temp</th>\n",
       "    </tr>\n",
       "  </thead>\n",
       "  <tbody>\n",
       "    <tr>\n",
       "      <th>count</th>\n",
       "      <td>363.000000</td>\n",
       "      <td>363.0</td>\n",
       "      <td>363.000000</td>\n",
       "    </tr>\n",
       "    <tr>\n",
       "      <th>mean</th>\n",
       "      <td>49506.691460</td>\n",
       "      <td>108.0</td>\n",
       "      <td>13.531129</td>\n",
       "    </tr>\n",
       "    <tr>\n",
       "      <th>std</th>\n",
       "      <td>31097.857386</td>\n",
       "      <td>0.0</td>\n",
       "      <td>10.171040</td>\n",
       "    </tr>\n",
       "    <tr>\n",
       "      <th>min</th>\n",
       "      <td>1181.000000</td>\n",
       "      <td>108.0</td>\n",
       "      <td>-7.900000</td>\n",
       "    </tr>\n",
       "    <tr>\n",
       "      <th>25%</th>\n",
       "      <td>19629.500000</td>\n",
       "      <td>108.0</td>\n",
       "      <td>4.300000</td>\n",
       "    </tr>\n",
       "    <tr>\n",
       "      <th>50%</th>\n",
       "      <td>51879.000000</td>\n",
       "      <td>108.0</td>\n",
       "      <td>14.600000</td>\n",
       "    </tr>\n",
       "    <tr>\n",
       "      <th>75%</th>\n",
       "      <td>75364.500000</td>\n",
       "      <td>108.0</td>\n",
       "      <td>22.950000</td>\n",
       "    </tr>\n",
       "    <tr>\n",
       "      <th>max</th>\n",
       "      <td>160396.000000</td>\n",
       "      <td>108.0</td>\n",
       "      <td>31.600000</td>\n",
       "    </tr>\n",
       "  </tbody>\n",
       "</table>\n",
       "</div>"
      ],
      "text/plain": [
       "               usage     지점        temp\n",
       "count     363.000000  363.0  363.000000\n",
       "mean    49506.691460  108.0   13.531129\n",
       "std     31097.857386    0.0   10.171040\n",
       "min      1181.000000  108.0   -7.900000\n",
       "25%     19629.500000  108.0    4.300000\n",
       "50%     51879.000000  108.0   14.600000\n",
       "75%     75364.500000  108.0   22.950000\n",
       "max    160396.000000  108.0   31.600000"
      ]
     },
     "execution_count": 85,
     "metadata": {},
     "output_type": "execute_result"
    }
   ],
   "source": [
    "df.describe()"
   ]
  },
  {
   "cell_type": "code",
   "execution_count": 92,
   "id": "ee290732-2753-479f-9167-60d35b96acd7",
   "metadata": {},
   "outputs": [
    {
     "data": {
      "image/png": "[encoded data removed]",
      "text/plain": [
       "<Figure size 1512x504 with 3 Axes>"
      ]
     },
     "metadata": {
      "needs_background": "light"
     },
     "output_type": "display_data"
    }
   ],
   "source": [
    "lm = sns.lmplot(x='temp', y='usage', col='season', data=df, \n",
    "                sharex=False, sharey=False, height=7, fit_reg=True)\n",
    "lm.savefig('temp_count.png')"
   ]
  },
  {
   "cell_type": "code",
   "execution_count": null,
   "id": "6f8a076f-d84c-411b-943d-d31bb0c95a91",
   "metadata": {},
   "outputs": [],
   "source": []
  }
 ],
 "metadata": {
  "kernelspec": {
   "display_name": "Python 3",
   "language": "python",
   "name": "python3"
  },
  "language_info": {
   "codemirror_mode": {
    "name": "ipython",
    "version": 3
   },
   "file_extension": ".py",
   "mimetype": "text/x-python",
   "name": "python",
   "nbconvert_exporter": "python",
   "pygments_lexer": "ipython3",
   "version": "3.8.5"
  }
 },
 "nbformat": 4,
 "nbformat_minor": 5
}
